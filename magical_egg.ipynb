{
 "cells": [
  {
   "cell_type": "code",
   "execution_count": 3,
   "metadata": {},
   "outputs": [
    {
     "name": "stdout",
     "output_type": "stream",
     "text": [
      "Success!\n"
     ]
    }
   ],
   "source": [
    "import time \n",
    "\n",
    "total = []\n",
    "def input_eggs_number_and_floor():\n",
    "    eggs = int(input(\"Enter the number of eggs: \"))\n",
    "    floors = int(input(\"Enter the number of floors: \"))\n",
    "    return eggs, floors\n",
    "\n",
    "def magical_eggs(eggs, floors):\n",
    "    #dynamic programming\n",
    "    dp = [[0 for i in range(floors + 1)] for j in range(eggs + 1)]\n",
    "    #linear search\n",
    "    for j in range(1, floors + 1):\n",
    "        dp[1][j] = j\n",
    "    #dp table for all values of eggs and floors\n",
    "    for i in range(2, eggs+1):\n",
    "        for j in range(2, floors+1):\n",
    "            dp[i][j] = float('inf')\n",
    "            for k in range(1, j+1):\n",
    "                worst_case = 1 + max(dp[i-1][k-1], dp[i][j-k])\n",
    "                dp[i][j] = min(dp[i][j], worst_case)\n",
    "    return dp[eggs][floors]\n",
    "\n",
    "def main():\n",
    "    \n",
    "    for eggs in [1,2,4,6]:\n",
    "        part = []\n",
    "        for floors in range(6,100):\n",
    "            #eggs, floors = input_eggs_number_and_floor()\n",
    "            start_time = time.time()\n",
    "            min_attempts = magical_eggs(eggs, floors)\n",
    "            end_time = time.time()\n",
    "            part.append((end_time - start_time) * 1000000)\n",
    "            #print(\"The minimum number of attempts required to find the critical floor is:\", min_attempts)\n",
    "        total.append(part)\n",
    "    print(\"Success!\")\n",
    "main()"
   ]
  },
  {
   "cell_type": "markdown",
   "metadata": {},
   "source": [
    "#### Table ####"
   ]
  },
  {
   "cell_type": "code",
   "execution_count": 5,
   "metadata": {},
   "outputs": [
    {
     "name": "stdout",
     "output_type": "stream",
     "text": [
      "     n        n = 2        n = 4        n = 6\n",
      "0    6    34.570694    32.901764    28.848648\n",
      "1    7    10.251999    21.696091    33.140182\n",
      "2    8    10.967255    26.226044    41.723251\n",
      "3    9    11.920929    31.709671    51.021576\n",
      "4   10    14.305115    37.670135    60.558319\n",
      "..  ..          ...          ...          ...\n",
      "89  95  1837.730408  2836.227417  4402.399063\n",
      "90  96   829.696655  2550.363541  4137.516022\n",
      "91  97   957.489014  2587.318420  4329.681396\n",
      "92  98   938.892365  2641.916275  4487.991333\n",
      "93  99   865.697861  2695.322037  4441.499710\n",
      "\n",
      "[94 rows x 4 columns]\n"
     ]
    }
   ],
   "source": [
    "import pandas as pd\n",
    "\n",
    "n = range(6,100)\n",
    "data = {'eggs':n, 'eggs = 1':total[0], 'eggs = 2':total[1], 'eggs = 4':total[2], 'eggs = 6': total[3]}\n",
    "df = pd.DataFrame(data)\n",
    "print(df)"
   ]
  }
 ],
 "metadata": {
  "kernelspec": {
   "display_name": "Python 3",
   "language": "python",
   "name": "python3"
  },
  "language_info": {
   "codemirror_mode": {
    "name": "ipython",
    "version": 3
   },
   "file_extension": ".py",
   "mimetype": "text/x-python",
   "name": "python",
   "nbconvert_exporter": "python",
   "pygments_lexer": "ipython3",
   "version": "3.10.12"
  }
 },
 "nbformat": 4,
 "nbformat_minor": 2
}
