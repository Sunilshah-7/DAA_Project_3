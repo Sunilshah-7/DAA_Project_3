{
 "cells": [
  {
   "cell_type": "code",
   "execution_count": 8,
   "metadata": {},
   "outputs": [
    {
     "name": "stdout",
     "output_type": "stream",
     "text": [
      "Success!\n"
     ]
    }
   ],
   "source": [
    "import time \n",
    "\n",
    "total = []\n",
    "def input_eggs_number_and_floor():\n",
    "    eggs = int(input(\"Enter the number of eggs: \"))\n",
    "    floors = int(input(\"Enter the number of floors: \"))\n",
    "    return eggs, floors\n",
    "\n",
    "def magical_eggs(eggs, floors):\n",
    "    #dynamic programming\n",
    "    dp = [[0 for i in range(floors + 1)] for j in range(eggs + 1)]\n",
    "    #linear search\n",
    "    for j in range(1, floors + 1):\n",
    "        dp[1][j] = j\n",
    "    #dp table for all values of eggs and floors\n",
    "    for i in range(2, eggs+1):\n",
    "        for j in range(2, floors+1):\n",
    "            dp[i][j] = float('inf')\n",
    "            for k in range(1, j+1):\n",
    "                worst_case = 1 + max(dp[i-1][k-1], dp[i][j-k])\n",
    "                dp[i][j] = min(dp[i][j], worst_case)\n",
    "    return dp[eggs][floors]\n",
    "\n",
    "def main():\n",
    "    \n",
    "    for eggs in [1,2]:\n",
    "        part = []\n",
    "        for floors in [10, 100, 1000, 10000]:\n",
    "            #eggs, floors = input_eggs_number_and_floor()\n",
    "            start_time = time.time()\n",
    "            min_attempts = magical_eggs(eggs, floors)\n",
    "            end_time = time.time()\n",
    "            part.append((end_time - start_time) * 1000000000)\n",
    "            #print(\"The minimum number of attempts required to find the critical floor is:\", min_attempts)\n",
    "        total.append(part)\n",
    "    print(\"Success!\")\n",
    "main()"
   ]
  },
  {
   "cell_type": "markdown",
   "metadata": {},
   "source": [
    "#### Table ####"
   ]
  },
  {
   "cell_type": "code",
   "execution_count": 10,
   "metadata": {},
   "outputs": [
    {
     "name": "stdout",
     "output_type": "stream",
     "text": [
      "   floor      eggs = 1      eggs = 2\n",
      "0     10  3.814697e+03  2.479553e+04\n",
      "1    100  1.597404e+04  1.219988e+06\n",
      "2   1000  7.009506e+04  8.747911e+07\n",
      "3  10000  1.003027e+06  7.770958e+09\n"
     ]
    }
   ],
   "source": [
    "import pandas as pd\n",
    "\n",
    "n = [10, 100, 1000, 10000]\n",
    "data = {'floor':n, 'eggs = 1':total[0], 'eggs = 2':total[1]}\n",
    "df = pd.DataFrame(data)\n",
    "print(df)"
   ]
  },
  {
   "cell_type": "code",
   "execution_count": 11,
   "metadata": {},
   "outputs": [],
   "source": [
    "#save df to csv\n",
    "df.to_csv('new_experimental_results.csv')"
   ]
  }
 ],
 "metadata": {
  "kernelspec": {
   "display_name": "Python 3",
   "language": "python",
   "name": "python3"
  },
  "language_info": {
   "codemirror_mode": {
    "name": "ipython",
    "version": 3
   },
   "file_extension": ".py",
   "mimetype": "text/x-python",
   "name": "python",
   "nbconvert_exporter": "python",
   "pygments_lexer": "ipython3",
   "version": "3.12.7"
  }
 },
 "nbformat": 4,
 "nbformat_minor": 2
}
